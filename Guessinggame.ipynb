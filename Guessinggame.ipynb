{
 "cells": [
  {
   "cell_type": "code",
   "execution_count": 1,
   "metadata": {},
   "outputs": [
    {
     "name": "stdout",
     "output_type": "stream",
     "text": [
      "WELCOME TO GUESS ME!\n",
      "I'm thinking of a number between 1 and 100\n",
      "If your guess is more than 10 away from my number, I'll tell you you're COLD\n",
      "If your guess is within 10 of my number, I'll tell you you're WARM\n",
      "If your guess is farther than your most recent guess, I'll say you're getting COLDER\n",
      "If your guess is closer than your most recent guess, I'll say you're getting WARMER\n",
      "LET'S PLAY!\n",
      "I'm thinking of a number between 1 and 100.\n",
      "  What is your guess? 55\n",
      "COLD\n",
      "I'm thinking of a number between 1 and 100.\n",
      "  What is your guess? 33\n",
      "WARMER\n",
      "I'm thinking of a number between 1 and 100.\n",
      "  What is your guess? 22\n",
      "WARMER\n",
      "I'm thinking of a number between 1 and 100.\n",
      "  What is your guess? 11\n",
      "WARMER\n",
      "I'm thinking of a number between 1 and 100.\n",
      "  What is your guess? 44\n",
      "COLDER\n",
      "I'm thinking of a number between 1 and 100.\n",
      "  What is your guess? 32\n",
      "WARMER\n",
      "I'm thinking of a number between 1 and 100.\n",
      "  What is your guess? 12\n",
      "WARMER\n",
      "I'm thinking of a number between 1 and 100.\n",
      "  What is your guess? 10\n",
      "COLDER\n",
      "I'm thinking of a number between 1 and 100.\n",
      "  What is your guess? 15\n",
      "CONGRATULATIONS, YOU GUESSED IT IN ONLY 9 GUESSES!!\n"
     ]
    }
   ],
   "source": [
    "import random\n",
    "num = random.randint(1,100)\n",
    "print(\"WELCOME TO GUESS ME!\")\n",
    "print(\"I'm thinking of a number between 1 and 100\")\n",
    "print(\"If your guess is more than 10 away from my number, I'll tell you you're COLD\")\n",
    "print(\"If your guess is within 10 of my number, I'll tell you you're WARM\")\n",
    "print(\"If your guess is farther than your most recent guess, I'll say you're getting COLDER\")\n",
    "print(\"If your guess is closer than your most recent guess, I'll say you're getting WARMER\")\n",
    "print(\"LET'S PLAY!\")\n",
    "guesses = [0]\n",
    "while True:\n",
    "    guess=int(input(\"I'm thinking of a number between 1 and 100.\\n  What is your guess? \"))\n",
    "    if guess<1 or guess>100:\n",
    "        print('OUT OF BONDS')\n",
    "        continue\n",
    "        break\n",
    "    if guess == num:\n",
    "        print(f'CONGRATULATIONS, YOU GUESSED IT IN ONLY {len(guesses)} GUESSES!!')\n",
    "        break\n",
    "    guesses.append(guess)\n",
    "    if guesses[-2]:\n",
    "        if abs(num-guess)<abs(num-guesses[-2]):\n",
    "            print('WARMER')\n",
    "        else:\n",
    "            print('COLDER')\n",
    "    else:\n",
    "            if abs(num-guess)<=10:\n",
    "                print('WARM')\n",
    "            else:\n",
    "                print('COLD')\n",
    "\n",
    "\n",
    "\n",
    "\n",
    "\n"
   ]
  },
  {
   "cell_type": "code",
   "execution_count": null,
   "metadata": {},
   "outputs": [],
   "source": []
  }
 ],
 "metadata": {
  "kernelspec": {
   "display_name": "Python 3",
   "language": "python",
   "name": "python3"
  },
  "language_info": {
   "codemirror_mode": {
    "name": "ipython",
    "version": 3
   },
   "file_extension": ".py",
   "mimetype": "text/x-python",
   "name": "python",
   "nbconvert_exporter": "python",
   "pygments_lexer": "ipython3",
   "version": "3.8.3"
  }
 },
 "nbformat": 4,
 "nbformat_minor": 4
}
